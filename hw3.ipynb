{
 "cells": [
  {
   "cell_type": "markdown",
   "metadata": {},
   "source": [
    "## HW3 - Satellite image segmentation & classification"
   ]
  },
  {
   "cell_type": "markdown",
   "metadata": {},
   "source": [
    "### S1:\n",
    "- Load EuroSat data\n",
    "- Visualize few images to check the multi-channel images and labels\n",
    "- Q: What is the number of images in this dataset:   ___\n",
    "- Q: What is the number of labels in this dataset:   ___\n",
    "- Q: What is the size of each image in this dataset:   ___"
   ]
  },
  {
   "cell_type": "markdown",
   "metadata": {},
   "source": [
    "### S2:\n",
    "- Create data matrixes X and y as follows:\n",
    "  - Define L1: a list of labels for class 0 (example: 5 and 8)\n",
    "  - Define L2: a list of labels for class 1 (example: 2, 6 and 7)\n",
    "  - Define CH: a list of image channels used (example: 7)\n",
    "  - Select all images for labels in L1 and L2\n",
    "  - Extract only channels in CH from each selected image and flatten them to a feature matrix X\n",
    "  - Create the labels y (with binary labels 0 and 1) \n",
    "- Q: What is the size of X:   ___\n",
    "- Q: What is the size of y:   ___"
   ]
  },
  {
   "cell_type": "markdown",
   "metadata": {},
   "source": [
    "### S3:\n",
    "- Using X and y create a split dataset with 60% training and 40% testing data with similar distributions for the two classes\n",
    "- Train a linear SVM classifier on the training data and run it on the testing data\n",
    "- Draw the ROC for the classification \n",
    "- Q: What is the training accuracy? ___\n",
    "- Q: What is the testing accuracy? ___\n",
    "- Q: What is the AUC? ___"
   ]
  },
  {
   "cell_type": "markdown",
   "metadata": {},
   "source": [
    "### S4:\n",
    "- Repeat steps S2 and S3 to create a classifier that classifies AnnualCrop vs PermanentCrop\n",
    "- Q: What is the training accuracy? ___\n",
    "- Q: What is the testing accuracy? ___\n",
    "- Q: What is the AUC? ___"
   ]
  },
  {
   "cell_type": "markdown",
   "metadata": {},
   "source": [
    "### S5:\n",
    "- Repeat steps S4 using all image channels as input\n",
    "- Q: What is the training accuracy? ___\n",
    "- Q: What is the testing accuracy? ___\n",
    "- Q: What is the AUC? ___"
   ]
  },
  {
   "cell_type": "markdown",
   "metadata": {},
   "source": [
    "### S6:\n",
    "- Repeat Step4 with leave-10%-out cross validation\n",
    "- Q: What is the training accuracy? ___\n",
    "- Q: What is the testing accuracy? ___\n",
    "- Q: What is the AUC? ___"
   ]
  },
  {
   "cell_type": "markdown",
   "metadata": {},
   "source": [
    "### S7: \n",
    "- Repeat S2 and S3 to implement a binary classifier between \"AnnualCrop + PermanentCrop\" vs \"Others\"\n",
    "- Q: What is the training accuracy? ___\n",
    "- Q: What is the testing accuracy? ___\n",
    "- Q: What is the AUC? ___"
   ]
  },
  {
   "cell_type": "markdown",
   "metadata": {},
   "source": [
    "### S8: \n",
    "- Q: Which pair of classes is the one with the highest classification accuracy?\n",
    "- Q: Which pair of classes is the one with the lowest classification accuracy?"
   ]
  }
 ],
 "metadata": {
  "kernelspec": {
   "display_name": "Python 3",
   "language": "python",
   "name": "python3"
  },
  "language_info": {
   "codemirror_mode": {
    "name": "ipython",
    "version": 3
   },
   "file_extension": ".py",
   "mimetype": "text/x-python",
   "name": "python",
   "nbconvert_exporter": "python",
   "pygments_lexer": "ipython3",
   "version": "3.7.3"
  }
 },
 "nbformat": 4,
 "nbformat_minor": 2
}
